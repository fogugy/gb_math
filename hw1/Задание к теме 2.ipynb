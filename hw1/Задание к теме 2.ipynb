{
 "cells": [
  {
   "cell_type": "code",
   "execution_count": 1,
   "metadata": {},
   "outputs": [],
   "source": [
    "import numpy as np\n",
    "import matplotlib.pyplot as plt\n",
    "%matplotlib inline"
   ]
  },
  {
   "cell_type": "markdown",
   "metadata": {},
   "source": [
    "#### 1. Задание\n",
    "Напишите код на Python, реализующий расчет длины вектора, заданного его координатами. (в программе)"
   ]
  },
  {
   "cell_type": "code",
   "execution_count": 2,
   "metadata": {},
   "outputs": [],
   "source": [
    "def vector_size(v):\n",
    "    sqr_sum = 0.0\n",
    "    for x in v:\n",
    "        sqr_sum += x**2\n",
    "    return np.sqrt(sqr_sum)"
   ]
  },
  {
   "cell_type": "code",
   "execution_count": 3,
   "metadata": {},
   "outputs": [
    {
     "data": {
      "text/plain": [
       "1.4142135623730951"
      ]
     },
     "execution_count": 3,
     "metadata": {},
     "output_type": "execute_result"
    }
   ],
   "source": [
    "vector_size([1,1])"
   ]
  },
  {
   "cell_type": "markdown",
   "metadata": {},
   "source": [
    "#### 3. Задание (в программе)\n",
    "Напишите код на Python, реализующий построение графиков:\n",
    "1. окружности,\n",
    "2. эллипса,\n",
    "3. гиперболы."
   ]
  },
  {
   "cell_type": "code",
   "execution_count": null,
   "metadata": {},
   "outputs": [],
   "source": [
    "def draw_circle(r=1, x0=0, y0=0, color='C1'):\n",
    "    angle = np.linspace(0, 2*np.pi)\n",
    "    x = list(map(lambda a: r*np.cos(a)+x0, angle))\n",
    "    y = list(map(lambda a: r*np.sin(a)+y0, angle))\n",
    "    plt.plot(x, y, color=color, linewidth=1)\n",
    "    plt.gca().set_aspect('equal')\n",
    "    \n",
    "draw_circle(x0=1, y0=2)"
   ]
  },
  {
   "cell_type": "code",
   "execution_count": 70,
   "metadata": {},
   "outputs": [
    {
     "data": {
      "image/png": "[encoded data removed]",
      "text/plain": [
       "<Figure size 432x288 with 1 Axes>"
      ]
     },
     "metadata": {
      "needs_background": "light"
     },
     "output_type": "display_data"
    }
   ],
   "source": [
    "def draw_ellipse(a=1, b=1, x0=0, y0=0, color='C1'):\n",
    "    angle = np.deg2rad(np.linspace(0, 360, 360))\n",
    "    x = list(map(lambda a: a*np.cos(a)+x0, angle))\n",
    "    y = list(map(lambda a: b*np.sin(a)+y0, angle))\n",
    "    plt.plot(x, y, color=color, linewidth=1)\n",
    "    plt.gca().set_aspect('equal')\n",
    "    \n",
    "draw_ellipse()"
   ]
  },
  {
   "cell_type": "code",
   "execution_count": null,
   "metadata": {},
   "outputs": [],
   "source": []
  }
 ],
 "metadata": {
  "kernelspec": {
   "display_name": "Python 3",
   "language": "python",
   "name": "python3"
  },
  "language_info": {
   "codemirror_mode": {
    "name": "ipython",
    "version": 3
   },
   "file_extension": ".py",
   "mimetype": "text/x-python",
   "name": "python",
   "nbconvert_exporter": "python",
   "pygments_lexer": "ipython3",
   "version": "3.7.0"
  }
 },
 "nbformat": 4,
 "nbformat_minor": 2
}
