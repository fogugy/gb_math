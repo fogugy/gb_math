{
 "cells": [
  {
   "cell_type": "code",
   "execution_count": 1,
   "metadata": {},
   "outputs": [],
   "source": [
    "from random import randrange"
   ]
  },
  {
   "cell_type": "markdown",
   "metadata": {},
   "source": [
    "#### 1. Напишите код, моделирующий выпадение поля в рулетке (с учетом поля зеро)."
   ]
  },
  {
   "cell_type": "code",
   "execution_count": 28,
   "metadata": {},
   "outputs": [
    {
     "data": {
      "text/plain": [
       "26"
      ]
     },
     "execution_count": 28,
     "metadata": {},
     "output_type": "execute_result"
    }
   ],
   "source": [
    "def roulette():\n",
    "    return randrange(0, 37)\n",
    "\n",
    "roulette()"
   ]
  },
  {
   "cell_type": "markdown",
   "metadata": {},
   "source": [
    "#### 2.1 Напишите код, проверяющий любую из теорем сложения или умножения вероятности на примере подбрасывания монетки."
   ]
  },
  {
   "cell_type": "markdown",
   "metadata": {},
   "source": [
    "Два события называются противоположными, если в данном испытании они несовместны и одно из них обязательно происходит. Вероятности противоположных событий в сумме дают 1. \n",
    "\n",
    "P(A) + P(B) = 1"
   ]
  },
  {
   "cell_type": "code",
   "execution_count": 36,
   "metadata": {},
   "outputs": [],
   "source": [
    "def coinflip():\n",
    "    return randrange(0, 2)"
   ]
  },
  {
   "cell_type": "code",
   "execution_count": 52,
   "metadata": {},
   "outputs": [
    {
     "name": "stdout",
     "output_type": "stream",
     "text": [
      "P_head: 0.49899\n",
      "P_tail: 0.50101\n",
      "sum = 1.0\n"
     ]
    }
   ],
   "source": [
    "flips_count = 100000\n",
    "drops = [coinflip() for x in range(flips_count)]\n",
    "flips_head = sum(cases) #количество выпавших 1 (орел)\n",
    "flips_tail = flips_count - sum(cases) #количество выпавших 0 (решка)\n",
    "\n",
    "P_head = flips_head/flips_count #эмпирическая вероятность выпадения орла\n",
    "P_tail = flips_tail/flips_count #эмпирическая вероятность выпадения решки\n",
    "\n",
    "print(f'P_head: {P_head}')\n",
    "print(f'P_tail: {P_tail}')\n",
    "print(f'sum = {P_head + P_tail}')"
   ]
  }
 ],
 "metadata": {
  "kernelspec": {
   "display_name": "Python 3",
   "language": "python",
   "name": "python3"
  },
  "language_info": {
   "codemirror_mode": {
    "name": "ipython",
    "version": 3
   },
   "file_extension": ".py",
   "mimetype": "text/x-python",
   "name": "python",
   "nbconvert_exporter": "python",
   "pygments_lexer": "ipython3",
   "version": "3.7.0"
  }
 },
 "nbformat": 4,
 "nbformat_minor": 2
}
